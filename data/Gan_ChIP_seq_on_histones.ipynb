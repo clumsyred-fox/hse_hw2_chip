{
  "cells": [
    {
      "cell_type": "markdown",
      "metadata": {
        "id": "XUZS4GUkHIEG"
      },
      "source": [
        "# Подготовка файлов и программ\n",
        "\n",
        "Некоторые программы ставятся дважды из разных источников для демонстрации различных вариантов в случае неполадок. Для оптимизации времени работы необходимо удалить лишний код."
      ]
    },
    {
      "cell_type": "code",
      "execution_count": 1,
      "metadata": {
        "id": "lrtRbP3fAvj8"
      },
      "outputs": [],
      "source": [
        "pip install -q condacolab"
      ]
    },
    {
      "cell_type": "code",
      "execution_count": 2,
      "metadata": {
        "id": "jQ1Oqzb9BXoG"
      },
      "outputs": [],
      "source": [
        "import condacolab"
      ]
    },
    {
      "cell_type": "code",
      "execution_count": null,
      "metadata": {
        "id": "q5FUOHCgBZWp"
      },
      "outputs": [],
      "source": [
        "condacolab.install()"
      ]
    },
    {
      "cell_type": "code",
      "execution_count": null,
      "metadata": {
        "id": "XnbIt77YBOT9"
      },
      "outputs": [],
      "source": [
        "!conda install -c bioconda seqtk"
      ]
    },
    {
      "cell_type": "code",
      "execution_count": null,
      "metadata": {
        "id": "sCBV_31qHOik"
      },
      "outputs": [],
      "source": [
        "!conda install -c bioconda trimmomatic"
      ]
    },
    {
      "cell_type": "code",
      "execution_count": null,
      "metadata": {
        "id": "F0BLWsH2n3Ov"
      },
      "outputs": [],
      "source": [
        "!pip install macs2 intervene"
      ]
    },
    {
      "cell_type": "code",
      "execution_count": null,
      "metadata": {
        "id": "Ce6hiSTdkarU"
      },
      "outputs": [],
      "source": [
        "!apt-get install bedtools"
      ]
    },
    {
      "cell_type": "code",
      "execution_count": null,
      "metadata": {
        "id": "AUML3dvsqT9E"
      },
      "outputs": [],
      "source": [
        "!apt-get install bowtie2 samtools"
      ]
    },
    {
      "cell_type": "code",
      "execution_count": null,
      "metadata": {
        "id": "JgTq4lFjq93N"
      },
      "outputs": [],
      "source": [
        "!conda install -c bioconda bowtie2"
      ]
    },
    {
      "cell_type": "markdown",
      "metadata": {
        "id": "vcr5CjibHTgF"
      },
      "source": [
        "## Установка FastQC"
      ]
    },
    {
      "cell_type": "code",
      "execution_count": null,
      "metadata": {
        "id": "62l1Q2ymbENA"
      },
      "outputs": [],
      "source": [
        "!java -version"
      ]
    },
    {
      "cell_type": "code",
      "execution_count": null,
      "metadata": {
        "id": "8bpgwFgcbgRd"
      },
      "outputs": [],
      "source": [
        "!wget https://www.bioinformatics.babraham.ac.uk/projects/fastqc/fastqc_v0.11.9.zip"
      ]
    },
    {
      "cell_type": "code",
      "execution_count": null,
      "metadata": {
        "id": "yTcTjOTJblcm"
      },
      "outputs": [],
      "source": [
        "!unzip fastqc_v0.11.9.zip"
      ]
    },
    {
      "cell_type": "code",
      "execution_count": 7,
      "metadata": {
        "id": "S79LH0aXbvLx"
      },
      "outputs": [],
      "source": [
        "!chmod a+x FastQC/fastqc"
      ]
    },
    {
      "cell_type": "code",
      "execution_count": null,
      "metadata": {
        "id": "PsLuZDt4b7jT"
      },
      "outputs": [],
      "source": [
        "!./FastQC/fastqc --help"
      ]
    },
    {
      "cell_type": "markdown",
      "metadata": {
        "id": "10Fs3qrmHmJi"
      },
      "source": [
        "# Выравнивание"
      ]
    },
    {
      "cell_type": "markdown",
      "metadata": {
        "id": "-z4GQiMfU1wf"
      },
      "source": [
        "## Скачиваем чтения\n",
        "\n",
        "Для примера чтения были взяты из эксперимента https://www.encodeproject.org/experiments/ENCSR000AKC/"
      ]
    },
    {
      "cell_type": "code",
      "execution_count": null,
      "metadata": {
        "id": "lFWnMg0uU0sJ"
      },
      "outputs": [],
      "source": [
        "# ChIP-seq на гистоновой метке\n",
        "!wget https://www.encodeproject.org/files/ENCFF002AYC/@@download/ENCFF002AYC.fastq.gz\n",
        "!wget https://www.encodeproject.org/files/ENCFF002AVT/@@download/ENCFF002AVT.fastq.gz\n",
        "# ChIP-seq контроль\n",
        "!wget https://www.encodeproject.org/files/ENCFF002BBC/@@download/ENCFF002BBC.fastq.gz"
      ]
    },
    {
      "cell_type": "code",
      "execution_count": 10,
      "metadata": {
        "id": "v73fH7WiVDu9"
      },
      "outputs": [],
      "source": [
        "# распаковка ахрива\n",
        "!gzip -d /content/ENCFF002AYC.fastq.gz /content/ENCFF002AVT.fastq.gz /content/ENCFF002BBC.fastq.gz"
      ]
    },
    {
      "cell_type": "markdown",
      "metadata": {
        "id": "6sPcIefNHx-L"
      },
      "source": [
        "## FastQC (или multiQC может быть использован в работе)"
      ]
    },
    {
      "cell_type": "code",
      "execution_count": 11,
      "metadata": {
        "id": "5XM6jBcuGjMV",
        "colab": {
          "base_uri": "https://localhost:8080/"
        },
        "outputId": "45bc8fec-ec44-4688-a3fc-7f49b7971bce"
      },
      "outputs": [
        {
          "output_type": "stream",
          "name": "stdout",
          "text": [
            "Started analysis of ENCFF002AYC.fastq\n",
            "Approx 5% complete for ENCFF002AYC.fastq\n",
            "Approx 10% complete for ENCFF002AYC.fastq\n",
            "Approx 15% complete for ENCFF002AYC.fastq\n",
            "Approx 20% complete for ENCFF002AYC.fastq\n",
            "Approx 25% complete for ENCFF002AYC.fastq\n",
            "Approx 30% complete for ENCFF002AYC.fastq\n",
            "Approx 35% complete for ENCFF002AYC.fastq\n",
            "Approx 40% complete for ENCFF002AYC.fastq\n",
            "Approx 45% complete for ENCFF002AYC.fastq\n",
            "Approx 50% complete for ENCFF002AYC.fastq\n",
            "Approx 55% complete for ENCFF002AYC.fastq\n",
            "Approx 60% complete for ENCFF002AYC.fastq\n",
            "Approx 65% complete for ENCFF002AYC.fastq\n",
            "Approx 70% complete for ENCFF002AYC.fastq\n",
            "Approx 75% complete for ENCFF002AYC.fastq\n",
            "Approx 80% complete for ENCFF002AYC.fastq\n",
            "Approx 85% complete for ENCFF002AYC.fastq\n",
            "Approx 90% complete for ENCFF002AYC.fastq\n",
            "Approx 95% complete for ENCFF002AYC.fastq\n",
            "Analysis complete for ENCFF002AYC.fastq\n",
            "Started analysis of ENCFF002AVT.fastq\n",
            "Approx 5% complete for ENCFF002AVT.fastq\n",
            "Approx 10% complete for ENCFF002AVT.fastq\n",
            "Approx 15% complete for ENCFF002AVT.fastq\n",
            "Approx 20% complete for ENCFF002AVT.fastq\n",
            "Approx 25% complete for ENCFF002AVT.fastq\n",
            "Approx 30% complete for ENCFF002AVT.fastq\n",
            "Approx 35% complete for ENCFF002AVT.fastq\n",
            "Approx 40% complete for ENCFF002AVT.fastq\n",
            "Approx 45% complete for ENCFF002AVT.fastq\n",
            "Approx 50% complete for ENCFF002AVT.fastq\n",
            "Approx 55% complete for ENCFF002AVT.fastq\n",
            "Approx 60% complete for ENCFF002AVT.fastq\n",
            "Approx 65% complete for ENCFF002AVT.fastq\n",
            "Approx 70% complete for ENCFF002AVT.fastq\n",
            "Approx 75% complete for ENCFF002AVT.fastq\n",
            "Approx 80% complete for ENCFF002AVT.fastq\n",
            "Approx 85% complete for ENCFF002AVT.fastq\n",
            "Approx 90% complete for ENCFF002AVT.fastq\n",
            "Approx 95% complete for ENCFF002AVT.fastq\n",
            "Analysis complete for ENCFF002AVT.fastq\n",
            "Started analysis of ENCFF002BBC.fastq\n",
            "Approx 5% complete for ENCFF002BBC.fastq\n",
            "Approx 10% complete for ENCFF002BBC.fastq\n",
            "Approx 15% complete for ENCFF002BBC.fastq\n",
            "Approx 20% complete for ENCFF002BBC.fastq\n",
            "Approx 25% complete for ENCFF002BBC.fastq\n",
            "Approx 30% complete for ENCFF002BBC.fastq\n",
            "Approx 35% complete for ENCFF002BBC.fastq\n",
            "Approx 40% complete for ENCFF002BBC.fastq\n",
            "Approx 45% complete for ENCFF002BBC.fastq\n",
            "Approx 50% complete for ENCFF002BBC.fastq\n",
            "Approx 55% complete for ENCFF002BBC.fastq\n",
            "Approx 60% complete for ENCFF002BBC.fastq\n",
            "Approx 65% complete for ENCFF002BBC.fastq\n",
            "Approx 70% complete for ENCFF002BBC.fastq\n",
            "Approx 75% complete for ENCFF002BBC.fastq\n",
            "Approx 80% complete for ENCFF002BBC.fastq\n",
            "Approx 85% complete for ENCFF002BBC.fastq\n",
            "Approx 90% complete for ENCFF002BBC.fastq\n",
            "Approx 95% complete for ENCFF002BBC.fastq\n",
            "Approx 100% complete for ENCFF002BBC.fastq\n",
            "Analysis complete for ENCFF002BBC.fastq\n"
          ]
        }
      ],
      "source": [
        "!./FastQC/fastqc /content/ENCFF002AYC.fastq\n",
        "!./FastQC/fastqc /content/ENCFF002AVT.fastq\n",
        "!./FastQC/fastqc /content/ENCFF002BBC.fastq"
      ]
    },
    {
      "cell_type": "markdown",
      "metadata": {
        "id": "W9QHWBLlpMjQ"
      },
      "source": [
        "## Выравнивание на хромосому\n",
        "\n",
        "Следует выбрать одну хромосому, потому что ресурсы google colab ограничены. В случае проблем, таких как Segmentation fault, error 139, следует выбрать хромосому меньшего размера.\n",
        "\n",
        "Последовательность нуклеотидов хромосомы можно скачать по адресу https://hgdownload.soe.ucsc.edu/goldenPath/hg38/chromosomes/"
      ]
    },
    {
      "cell_type": "code",
      "execution_count": null,
      "metadata": {
        "id": "N4JIGZOsGiY2"
      },
      "outputs": [],
      "source": [
        "!wget https://hgdownload.soe.ucsc.edu/goldenPath/hg38/chromosomes/chr18.fa.gz\n",
        "!gzip -d chr18.fa.gz"
      ]
    },
    {
      "cell_type": "code",
      "execution_count": 13,
      "metadata": {
        "id": "bhraQ6NdGiPN",
        "colab": {
          "base_uri": "https://localhost:8080/"
        },
        "outputId": "2051bfa7-686a-4227-a3e1-b92510d68979"
      },
      "outputs": [
        {
          "output_type": "stream",
          "name": "stdout",
          "text": [
            "Settings:\n",
            "  Output files: \"chromosome_index.*.bt2\"\n",
            "  Line rate: 6 (line is 64 bytes)\n",
            "  Lines per side: 1 (side is 64 bytes)\n",
            "  Offset rate: 4 (one in 16)\n",
            "  FTable chars: 10\n",
            "  Strings: unpacked\n",
            "  Max bucket size: default\n",
            "  Max bucket size, sqrt multiplier: default\n",
            "  Max bucket size, len divisor: 4\n",
            "  Difference-cover sample period: 1024\n",
            "  Endianness: little\n",
            "  Actual local endianness: little\n",
            "  Sanity checking: disabled\n",
            "  Assertions: disabled\n",
            "  Random seed: 0\n",
            "  Sizeofs: void*:8, int:4, long:8, size_t:8\n",
            "Input files DNA, FASTA:\n",
            "  chr18.fa\n",
            "Building a SMALL index\n",
            "Reading reference sizes\n",
            "  Time reading reference sizes: 00:00:01\n",
            "Calculating joined length\n",
            "Writing header\n",
            "Reserving space for joined string\n",
            "Joining reference sequences\n",
            "  Time to join reference sequences: 00:00:00\n",
            "bmax according to bmaxDivN setting: 20022401\n",
            "Using parameters --bmax 15016801 --dcv 1024\n",
            "  Doing ahead-of-time memory usage test\n",
            "  Passed!  Constructing with these parameters: --bmax 15016801 --dcv 1024\n",
            "Constructing suffix-array element generator\n",
            "Building DifferenceCoverSample\n",
            "  Building sPrime\n",
            "  Building sPrimeOrder\n",
            "  V-Sorting samples\n",
            "  V-Sorting samples time: 00:00:03\n",
            "  Allocating rank array\n",
            "  Ranking v-sort output\n",
            "  Ranking v-sort output time: 00:00:00\n",
            "  Invoking Larsson-Sadakane on ranks\n",
            "  Invoking Larsson-Sadakane on ranks time: 00:00:01\n",
            "  Sanity-checking and returning\n",
            "Building samples\n",
            "Reserving space for 12 sample suffixes\n",
            "Generating random suffixes\n",
            "QSorting 12 sample offsets, eliminating duplicates\n",
            "QSorting sample offsets, eliminating duplicates time: 00:00:00\n",
            "Multikey QSorting 12 samples\n",
            "  (Using difference cover)\n",
            "  Multikey QSorting samples time: 00:00:00\n",
            "Calculating bucket sizes\n",
            "Splitting and merging\n",
            "  Splitting and merging time: 00:00:00\n",
            "Avg bucket size: 8.00896e+07 (target: 15016800)\n",
            "Converting suffix-array elements to index image\n",
            "Allocating ftab, absorbFtab\n",
            "Entering Ebwt loop\n",
            "Getting block 1 of 1\n",
            "  No samples; assembling all-inclusive block\n",
            "  Sorting block of length 80089605 for bucket 1\n",
            "  (Using difference cover)\n",
            "  Sorting block time: 00:00:51\n",
            "Returning block of 80089606 for bucket 1\n",
            "Exited Ebwt loop\n",
            "fchr[A]: 0\n",
            "fchr[C]: 24050680\n",
            "fchr[G]: 39845135\n",
            "fchr[T]: 55906786\n",
            "fchr[$]: 80089605\n",
            "Exiting Ebwt::buildToDisk()\n",
            "Returning from initFromVector\n",
            "Wrote 30891755 bytes to primary EBWT file: chromosome_index.1.bt2\n",
            "Wrote 20022408 bytes to secondary EBWT file: chromosome_index.2.bt2\n",
            "Re-opening _in1 and _in2 as input streams\n",
            "Returning from Ebwt constructor\n",
            "Headers:\n",
            "    len: 80089605\n",
            "    bwtLen: 80089606\n",
            "    sz: 20022402\n",
            "    bwtSz: 20022402\n",
            "    lineRate: 6\n",
            "    offRate: 4\n",
            "    offMask: 0xfffffff0\n",
            "    ftabChars: 10\n",
            "    eftabLen: 20\n",
            "    eftabSz: 80\n",
            "    ftabLen: 1048577\n",
            "    ftabSz: 4194308\n",
            "    offsLen: 5005601\n",
            "    offsSz: 20022404\n",
            "    lineSz: 64\n",
            "    sideSz: 64\n",
            "    sideBwtSz: 48\n",
            "    sideBwtLen: 192\n",
            "    numSides: 417134\n",
            "    numLines: 417134\n",
            "    ebwtTotLen: 26696576\n",
            "    ebwtTotSz: 26696576\n",
            "    color: 0\n",
            "    reverse: 0\n",
            "Total time for call to driver() for forward index: 00:01:09\n",
            "Reading reference sizes\n",
            "  Time reading reference sizes: 00:00:01\n",
            "Calculating joined length\n",
            "Writing header\n",
            "Reserving space for joined string\n",
            "Joining reference sequences\n",
            "  Time to join reference sequences: 00:00:00\n",
            "  Time to reverse reference sequence: 00:00:01\n",
            "bmax according to bmaxDivN setting: 20022401\n",
            "Using parameters --bmax 15016801 --dcv 1024\n",
            "  Doing ahead-of-time memory usage test\n",
            "  Passed!  Constructing with these parameters: --bmax 15016801 --dcv 1024\n",
            "Constructing suffix-array element generator\n",
            "Building DifferenceCoverSample\n",
            "  Building sPrime\n",
            "  Building sPrimeOrder\n",
            "  V-Sorting samples\n",
            "  V-Sorting samples time: 00:00:02\n",
            "  Allocating rank array\n",
            "  Ranking v-sort output\n",
            "  Ranking v-sort output time: 00:00:00\n",
            "  Invoking Larsson-Sadakane on ranks\n",
            "  Invoking Larsson-Sadakane on ranks time: 00:00:01\n",
            "  Sanity-checking and returning\n",
            "Building samples\n",
            "Reserving space for 12 sample suffixes\n",
            "Generating random suffixes\n",
            "QSorting 12 sample offsets, eliminating duplicates\n",
            "QSorting sample offsets, eliminating duplicates time: 00:00:00\n",
            "Multikey QSorting 12 samples\n",
            "  (Using difference cover)\n",
            "  Multikey QSorting samples time: 00:00:00\n",
            "Calculating bucket sizes\n",
            "Splitting and merging\n",
            "  Splitting and merging time: 00:00:00\n",
            "Avg bucket size: 8.00896e+07 (target: 15016800)\n",
            "Converting suffix-array elements to index image\n",
            "Allocating ftab, absorbFtab\n",
            "Entering Ebwt loop\n",
            "Getting block 1 of 1\n",
            "  No samples; assembling all-inclusive block\n",
            "  Sorting block of length 80089605 for bucket 1\n",
            "  (Using difference cover)\n",
            "  Sorting block time: 00:00:49\n",
            "Returning block of 80089606 for bucket 1\n",
            "Exited Ebwt loop\n",
            "fchr[A]: 0\n",
            "fchr[C]: 24050680\n",
            "fchr[G]: 39845135\n",
            "fchr[T]: 55906786\n",
            "fchr[$]: 80089605\n",
            "Exiting Ebwt::buildToDisk()\n",
            "Returning from initFromVector\n",
            "Wrote 30891755 bytes to primary EBWT file: chromosome_index.rev.1.bt2\n",
            "Wrote 20022408 bytes to secondary EBWT file: chromosome_index.rev.2.bt2\n",
            "Re-opening _in1 and _in2 as input streams\n",
            "Returning from Ebwt constructor\n",
            "Headers:\n",
            "    len: 80089605\n",
            "    bwtLen: 80089606\n",
            "    sz: 20022402\n",
            "    bwtSz: 20022402\n",
            "    lineRate: 6\n",
            "    offRate: 4\n",
            "    offMask: 0xfffffff0\n",
            "    ftabChars: 10\n",
            "    eftabLen: 20\n",
            "    eftabSz: 80\n",
            "    ftabLen: 1048577\n",
            "    ftabSz: 4194308\n",
            "    offsLen: 5005601\n",
            "    offsSz: 20022404\n",
            "    lineSz: 64\n",
            "    sideSz: 64\n",
            "    sideBwtSz: 48\n",
            "    sideBwtLen: 192\n",
            "    numSides: 417134\n",
            "    numLines: 417134\n",
            "    ebwtTotLen: 26696576\n",
            "    ebwtTotSz: 26696576\n",
            "    color: 0\n",
            "    reverse: 1\n",
            "Total time for backward call to driver() for mirror index: 00:01:07\n",
            "CPU times: user 1.17 s, sys: 170 ms, total: 1.34 s\n",
            "Wall time: 2min 16s\n"
          ]
        }
      ],
      "source": [
        "%%time\n",
        "!bowtie2-build chr18.fa chromosome_index"
      ]
    },
    {
      "cell_type": "code",
      "execution_count": 14,
      "metadata": {
        "id": "E_usI8XUrQnR"
      },
      "outputs": [],
      "source": [
        "!mkdir bowtie2_res"
      ]
    },
    {
      "cell_type": "code",
      "execution_count": 15,
      "metadata": {
        "id": "3t80UATHqFe7",
        "colab": {
          "base_uri": "https://localhost:8080/"
        },
        "outputId": "9100cd04-c3d7-48b5-e98b-5d06b9e73205"
      },
      "outputs": [
        {
          "output_type": "stream",
          "name": "stdout",
          "text": [
            "42224764 reads; of these:\n",
            "  42224764 (100.00%) were unpaired; of these:\n",
            "    36548730 (86.56%) aligned 0 times\n",
            "    1474101 (3.49%) aligned exactly 1 time\n",
            "    4201933 (9.95%) aligned >1 times\n",
            "13.44% overall alignment rate\n",
            "CPU times: user 8.91 s, sys: 1.1 s, total: 10 s\n",
            "Wall time: 18min 11s\n"
          ]
        }
      ],
      "source": [
        "%%time\n",
        "!bowtie2  -p 2 \\\n",
        "          -x chromosome_index \\\n",
        "          -U ENCFF002AYC.fastq \\\n",
        "          -S bowtie2_res/res_AYC.sam"
      ]
    },
    {
      "cell_type": "code",
      "execution_count": 16,
      "metadata": {
        "id": "6VQ--cPm0gS3",
        "colab": {
          "base_uri": "https://localhost:8080/"
        },
        "outputId": "66040a3d-9b10-42a6-f078-5cfb505fa01c"
      },
      "outputs": [
        {
          "output_type": "stream",
          "name": "stdout",
          "text": [
            "26657759 reads; of these:\n",
            "  26657759 (100.00%) were unpaired; of these:\n",
            "    23683146 (88.84%) aligned 0 times\n",
            "    795832 (2.99%) aligned exactly 1 time\n",
            "    2178781 (8.17%) aligned >1 times\n",
            "11.16% overall alignment rate\n",
            "CPU times: user 4.72 s, sys: 519 ms, total: 5.24 s\n",
            "Wall time: 9min 23s\n"
          ]
        }
      ],
      "source": [
        "%%time\n",
        "!bowtie2  -p 2 \\\n",
        "          -x chromosome_index \\\n",
        "          -U ENCFF002AVT.fastq \\\n",
        "          -S bowtie2_res/res_AVT.sam"
      ]
    },
    {
      "cell_type": "code",
      "execution_count": 17,
      "metadata": {
        "id": "so1jTdGHoEir",
        "colab": {
          "base_uri": "https://localhost:8080/"
        },
        "outputId": "cde498b2-f29b-43eb-8aee-4a74ef92a3b1"
      },
      "outputs": [
        {
          "output_type": "stream",
          "name": "stdout",
          "text": [
            "42527005 reads; of these:\n",
            "  42527005 (100.00%) were unpaired; of these:\n",
            "    35889576 (84.39%) aligned 0 times\n",
            "    1589790 (3.74%) aligned exactly 1 time\n",
            "    5047639 (11.87%) aligned >1 times\n",
            "15.61% overall alignment rate\n",
            "CPU times: user 8.98 s, sys: 1.04 s, total: 10 s\n",
            "Wall time: 18min 18s\n"
          ]
        }
      ],
      "source": [
        "%%time\n",
        "!bowtie2  -p 2 \\\n",
        "          -x chromosome_index \\\n",
        "          -U ENCFF002BBC.fastq \\\n",
        "          -S bowtie2_res/res_BBC.sam"
      ]
    },
    {
      "cell_type": "markdown",
      "metadata": {
        "id": "ysoDrnSCrei0"
      },
      "source": [
        "Проанализируйте выдачу bowtie. Почему процент выравниваний получился именно таким?\n",
        "\n",
        "Имеет смысл для дальнейшего анализа отобрать уникально картированные риды."
      ]
    },
    {
      "cell_type": "markdown",
      "metadata": {
        "id": "TmfJKT0rmLyp"
      },
      "source": [
        "Преобразование .sam в .bam (не требуется если запускать macs2 на .sam файлах)"
      ]
    },
    {
      "cell_type": "markdown",
      "metadata": {
        "id": "eLtG7xtRup19"
      },
      "source": [
        "На этом моменте можно скачать себе на компьютер все полученные .bam или .sam файлы на случай сбоя."
      ]
    },
    {
      "cell_type": "markdown",
      "metadata": {
        "id": "XZtQrPZMmgnC"
      },
      "source": [
        "## Peak calling\n",
        "\n",
        "Помимо macs2 может быть использован пакет Homer для поиска пиков, а также macs3."
      ]
    },
    {
      "cell_type": "code",
      "execution_count": 18,
      "metadata": {
        "id": "uX1ps4VDp_Ae"
      },
      "outputs": [],
      "source": [
        "!mkdir macs2"
      ]
    },
    {
      "cell_type": "code",
      "execution_count": null,
      "metadata": {
        "id": "EJQOCcv2nJW_"
      },
      "outputs": [],
      "source": [
        "!macs2 callpeak --broad -t bowtie2_res/res_AYC.sam \\\n",
        "    -c bowtie2_res/res_BBC.sam \\\n",
        " \t  -f SAM \\\n",
        "\t  --outdir macs2_AYC"
      ]
    },
    {
      "cell_type": "code",
      "execution_count": null,
      "metadata": {
        "id": "C2TFkyUm_mbA"
      },
      "outputs": [],
      "source": [
        "!macs2 callpeak --broad -t bowtie2_res/res_AVT.sam \\\n",
        "    -c bowtie2_res/res_BBC.sam \\\n",
        " \t  -f SAM \\\n",
        "\t  --outdir macs2_AVT"
      ]
    },
    {
      "cell_type": "code",
      "execution_count": null,
      "metadata": {
        "id": "HrNwxs7ArPz7"
      },
      "outputs": [],
      "source": [
        "!wget https://www.encodeproject.org/files/ENCFF626WXW/@@download/ENCFF626WXW.bed.gz\n",
        "!gzip -d ENCFF626WXW.bed.gz"
      ]
    },
    {
      "cell_type": "markdown",
      "metadata": {
        "id": "MYEGEbQjvEwY"
      },
      "source": [
        "## Сравнение результатов\n",
        "\n",
        "Сравниваем те пики, которые мы получили, с пиками, которые приведены в ENCODE (важно, чтобы версии генома hg38 или hg19) для .bed файла из ENCODE и той хромосомы, которую скачивали выше, сопадали.\n",
        "\n",
        "Проанализируйте полученные результаты и приведите свои рассуждения в README.md. Как можно объяснить различия в количестве пересечений?"
      ]
    },
    {
      "cell_type": "code",
      "execution_count": 22,
      "metadata": {
        "id": "VFNtn2Z6AWp1",
        "colab": {
          "base_uri": "https://localhost:8080/"
        },
        "outputId": "c4a1cff7-b616-4528-996d-75899a8f6369"
      },
      "outputs": [
        {
          "output_type": "stream",
          "name": "stdout",
          "text": [
            "\n",
            "Generating a 2-way \"venn\" diagram. Please wait...\n",
            "\n",
            "\n",
            "Done! Please check your results @ venn_results/venn1.jpg. \n",
            "Thank you for using Intervene!\n",
            "\n",
            "\n",
            "Generating a 2-way \"venn\" diagram. Please wait...\n",
            "\n",
            "\n",
            "Done! Please check your results @ venn_results/venn2.jpg. \n",
            "Thank you for using Intervene!\n",
            "\n"
          ]
        }
      ],
      "source": [
        "!intervene venn -i macs2_AYC/NA_peaks.broadPeak ENCFF626WXW.bed --filenames --output venn_results/venn1.jpg\n",
        "!intervene venn -i ENCFF626WXW.bed macs2_AYC/NA_peaks.broadPeak --filenames --output venn_results/venn2.jpg"
      ]
    },
    {
      "cell_type": "code",
      "execution_count": 23,
      "metadata": {
        "id": "tDixqnBZCf4D",
        "colab": {
          "base_uri": "https://localhost:8080/"
        },
        "outputId": "faab52ab-0250-433e-ed86-322b6ee3858c"
      },
      "outputs": [
        {
          "output_type": "stream",
          "name": "stdout",
          "text": [
            "\n",
            "Generating a 2-way \"venn\" diagram. Please wait...\n",
            "\n",
            "\n",
            "Done! Please check your results @ venn_results/venn3.jpg. \n",
            "Thank you for using Intervene!\n",
            "\n",
            "\n",
            "Generating a 2-way \"venn\" diagram. Please wait...\n",
            "\n",
            "\n",
            "Done! Please check your results @ venn_results/venn4.jpg. \n",
            "Thank you for using Intervene!\n",
            "\n"
          ]
        }
      ],
      "source": [
        "!intervene venn -i macs2_AVT/NA_peaks.broadPeak ENCFF626WXW.bed --filenames --output venn_results/venn3.jpg\n",
        "!intervene venn -i ENCFF626WXW.bed macs2_AVT/NA_peaks.broadPeak --filenames --output venn_results/venn4.jpg"
      ]
    },
    {
      "cell_type": "markdown",
      "metadata": {
        "id": "w_TpdMixmsdY"
      },
      "source": [
        "# Бонусная часть\n",
        "\n",
        "Задание: получить ngsplot и heatmap (загрузить на гитхаб), проанализировать его, сравнив с теоретической версией локализации гистоновой метки. Как можно объяснить вид распределения и локализацию мод?\n",
        "\n",
        "Ниже приведён пример для подсчёта ngsplot с использованием опубликованного .bigWig файла, а также приведено возможное получение .bigWig файла.\n",
        "\n",
        "Проверяйте все файлы на совпадение версии сборки генома, которую вы используете!"
      ]
    },
    {
      "cell_type": "markdown",
      "metadata": {
        "id": "uVvHCgj45XQ0"
      },
      "source": [
        "Ищем .bam file\n",
        "https://www.encodeproject.org/experiments/ENCSR000AKC/"
      ]
    },
    {
      "cell_type": "markdown",
      "metadata": {
        "id": "ZM5iNuKKvpu1"
      },
      "source": [
        "Ищем .bigWig file связанный с выбранным .bam\n",
        "https://www.encodeproject.org/experiments/ENCSR000AKC/\n",
        "\n",
        "Более подробную инструкцию можно найти в чате в телеграмм (сообщения в 11:30 1 марта)"
      ]
    },
    {
      "cell_type": "markdown",
      "metadata": {
        "id": "8VB60JhkxEO8"
      },
      "source": [
        "## Установка deeptools и bedtools"
      ]
    },
    {
      "cell_type": "code",
      "execution_count": 24,
      "metadata": {
        "id": "DTj12rByiWy5"
      },
      "outputs": [],
      "source": [
        "#!pip install imgaug==0.2.5"
      ]
    },
    {
      "cell_type": "code",
      "execution_count": 25,
      "metadata": {
        "id": "KhYvZAhYiWtl",
        "colab": {
          "base_uri": "https://localhost:8080/"
        },
        "outputId": "724bca07-1599-4aff-e1c9-88904ca5fd37"
      },
      "outputs": [
        {
          "output_type": "stream",
          "name": "stdout",
          "text": [
            "\u001b[K     |████████████████████████████████| 233 kB 31.0 MB/s \n",
            "\u001b[K     |████████████████████████████████| 64 kB 2.9 MB/s \n",
            "\u001b[K     |████████████████████████████████| 27.7 MB 4.2 MB/s \n",
            "\u001b[K     |████████████████████████████████| 51 kB 6.0 MB/s \n",
            "\u001b[K     |████████████████████████████████| 41 kB 110 kB/s \n",
            "\u001b[K     |████████████████████████████████| 3.1 MB 45.1 MB/s \n",
            "\u001b[K     |████████████████████████████████| 133 kB 58.4 MB/s \n",
            "\u001b[K     |████████████████████████████████| 94 kB 2.3 MB/s \n",
            "\u001b[K     |████████████████████████████████| 93 kB 1.2 MB/s \n",
            "\u001b[K     |████████████████████████████████| 100 kB 8.2 MB/s \n",
            "\u001b[K     |████████████████████████████████| 575 kB 44.3 MB/s \n",
            "\u001b[K     |████████████████████████████████| 121 kB 48.5 MB/s \n",
            "\u001b[K     |████████████████████████████████| 90 kB 7.3 MB/s \n",
            "\u001b[K     |████████████████████████████████| 8.8 MB 42.3 MB/s \n",
            "\u001b[K     |████████████████████████████████| 84 kB 3.0 MB/s \n",
            "\u001b[K     |████████████████████████████████| 1.1 MB 41.9 MB/s \n",
            "\u001b[?25h  Building wheel for deeptoolsintervals (setup.py) ... \u001b[?25l\u001b[?25hdone\n",
            "  Building wheel for py2bit (setup.py) ... \u001b[?25l\u001b[?25hdone\n",
            "  Building wheel for pyBigWig (setup.py) ... \u001b[?25l\u001b[?25hdone\n"
          ]
        }
      ],
      "source": [
        "!pip install -q deeptools"
      ]
    },
    {
      "cell_type": "code",
      "execution_count": 26,
      "metadata": {
        "id": "3wNbD7dgp1el",
        "colab": {
          "base_uri": "https://localhost:8080/"
        },
        "outputId": "00dd4acb-8a50-4c5f-b66b-b5e69b99e725"
      },
      "outputs": [
        {
          "output_type": "stream",
          "name": "stdout",
          "text": [
            "Collecting package metadata (current_repodata.json): - \b\b\\ \b\b| \b\b/ \b\b- \b\b\\ \b\b| \b\b/ \b\b- \b\b\\ \b\b| \b\b/ \b\b- \b\b\\ \b\b| \b\b/ \b\b- \b\b\\ \b\b| \b\b/ \b\b- \b\b\\ \b\b| \b\b/ \b\b- \b\b\\ \b\b| \b\b/ \b\b- \b\b\\ \b\b| \b\b/ \b\b- \b\b\\ \b\b| \b\b/ \b\b- \b\b\\ \b\b| \b\b/ \b\b- \b\b\\ \b\b| \b\b/ \b\b- \b\b\\ \b\b| \b\b/ \b\b- \b\b\\ \b\b| \b\b/ \b\b- \b\b\\ \b\b| \b\b/ \b\b- \b\b\\ \b\b| \b\b/ \b\b- \b\b\\ \b\b| \b\b/ \b\b- \b\b\\ \b\b| \b\b/ \b\b- \b\b\\ \b\b| \b\b/ \b\b- \b\b\\ \b\b| \b\b/ \b\b- \b\b\\ \b\b| \b\b/ \b\b- \b\b\\ \b\b| \b\b/ \b\b- \b\b\\ \b\b| \b\b/ \b\b- \b\b\\ \b\b| \b\b/ \b\b- \b\b\\ \b\b| \b\b/ \b\b- \b\b\\ \b\b| \b\b/ \b\b- \b\b\\ \b\b| \b\b/ \b\b- \b\b\\ \b\b| \b\b/ \b\b- \b\bdone\n",
            "Solving environment: | \b\b/ \b\b- \b\b\\ \b\b| \b\b/ \b\b- \b\b\\ \b\b| \b\b/ \b\b- \b\b\\ \b\b| \b\b/ \b\b- \b\bdone\n",
            "\n",
            "## Package Plan ##\n",
            "\n",
            "  environment location: /usr/local\n",
            "\n",
            "  added / updated specs:\n",
            "    - bedtools\n",
            "\n",
            "\n",
            "The following packages will be downloaded:\n",
            "\n",
            "    package                    |            build\n",
            "    ---------------------------|-----------------\n",
            "    bedtools-2.30.0            |       h7d7f7ad_1        17.9 MB  bioconda\n",
            "    ------------------------------------------------------------\n",
            "                                           Total:        17.9 MB\n",
            "\n",
            "The following NEW packages will be INSTALLED:\n",
            "\n",
            "  bedtools           bioconda/linux-64::bedtools-2.30.0-h7d7f7ad_1\n",
            "\n",
            "\n",
            "\n",
            "Downloading and Extracting Packages\n",
            "bedtools-2.30.0      | 17.9 MB   | : 100% 1.0/1 [00:03<00:00,  3.42s/it]               \n",
            "Preparing transaction: | \b\bdone\n",
            "Verifying transaction: - \b\b\\ \b\b| \b\b/ \b\b- \b\b\\ \b\b| \b\b/ \b\bdone\n",
            "Executing transaction: \\ \b\bdone\n"
          ]
        }
      ],
      "source": [
        "!conda install -c bioconda bedtools"
      ]
    },
    {
      "cell_type": "markdown",
      "metadata": {
        "id": "opMM1Y2-xZcc"
      },
      "source": [
        "## Подсчёт ngsplot при помощи deeptools\n",
        "Необходимо скачать аннотацию (например, для hg19 взять отсюда https://hgdownload-test.gi.ucsc.edu/goldenPath/hg19/bigZips/genes/ - hg19.knownGene)\n",
        "Для hg38 - https://hgdownload-test.gi.ucsc.edu/goldenPath/hg38/bigZips/genes/"
      ]
    },
    {
      "cell_type": "code",
      "execution_count": null,
      "metadata": {
        "id": "ahrRih69Y_TE"
      },
      "outputs": [],
      "source": [
        "!wget https://hgdownload-test.gi.ucsc.edu/goldenPath/hg38/bigZips/genes/hg38.knownGene.gtf.gz"
      ]
    },
    {
      "cell_type": "code",
      "execution_count": null,
      "metadata": {
        "id": "nm-RkCXfayB0"
      },
      "outputs": [],
      "source": [
        "!wget https://www.encodeproject.org/files/ENCFF226TQJ/@@download/ENCFF226TQJ.bigWig\n",
        "!wget https://www.encodeproject.org/files/ENCFF157QMD/@@download/ENCFF157QMD.bigWig"
      ]
    },
    {
      "cell_type": "code",
      "execution_count": null,
      "metadata": {
        "id": "aPo7V4xOyv0y"
      },
      "outputs": [],
      "source": [
        "# подсчёт матрицы. В примере считается 30 минут.\n",
        "%%time\n",
        "!computeMatrix scale-regions \\\n",
        " -S ENCFF226TQJ.bigWig \\\n",
        " -R hg38.knownGene.gtf.gz \\\n",
        " -out matrix1.tab.gz \\\n",
        " -a 2000 -b 2000 \\\n",
        " --regionBodyLength 4000 \\\n",
        " --skipZeros \\\n",
        " --missingDataAsZero -p 2"
      ]
    },
    {
      "cell_type": "code",
      "source": [
        "# подсчёт матрицы. В примере считается 30 минут.\n",
        "%%time\n",
        "!computeMatrix scale-regions \\\n",
        " -S ENCFF157QMD.bigWig \\\n",
        " -R hg38.knownGene.gtf.gz \\\n",
        " -out matrix2.tab.gz \\\n",
        " -a 2000 -b 2000 \\\n",
        " --regionBodyLength 4000 \\\n",
        " --skipZeros \\\n",
        " --missingDataAsZero -p 2"
      ],
      "metadata": {
        "id": "5mZTtlKd2gXC"
      },
      "execution_count": null,
      "outputs": []
    },
    {
      "cell_type": "code",
      "execution_count": 31,
      "metadata": {
        "id": "kspGb93Q5X6e",
        "colab": {
          "base_uri": "https://localhost:8080/"
        },
        "outputId": "2875d342-78a8-4ac8-e161-292bd9584744"
      },
      "outputs": [
        {
          "output_type": "stream",
          "name": "stdout",
          "text": [
            "tcmalloc: large alloc 1433444352 bytes == 0x56518c88a000 @  0x7f28c7c1b1e7 0x7f28c5fb10ce 0x7f28c6007cf5 0x7f28c60b086d 0x7f28c60b117f 0x7f28c60b12d0 0x56511fe2cd5f 0x7f28c5ff2944 0x56511feba3eb 0x56511febbad8 0x56511fee24ac 0x56511fe29af2 0x56511fe58030 0x56511febb9c8 0x56511fee674a 0x56511fe2aead 0x7f28c5ff2944 0x56511feba3eb 0x56511febbad8 0x56511fee24ac 0x56511fe29af2 0x56511fe58030 0x56511febb9c8 0x56511fee674a 0x56511fe57e94 0x56511febb9c8 0x56511fee2544 0x56511fe29af2 0x56511fe58030 0x56511febb9c8 0x56511fee24ac\n",
            "tcmalloc: large alloc 1433444352 bytes == 0x5651f7558000 @  0x7f28c7c1b1e7 0x7f28c5fb10ce 0x7f28c600b726 0x7f28c5ffe475 0x7f28c60ae6ec 0x56511feba300 0x56511febbad8 0x56511fee31d9 0x56511fe57e94 0x56511febb9c8 0x56511fee24ac 0x56511fe29af2 0x56511fe2b3a8 0x7f28c5ff2944 0x56511feba3eb 0x56511febbad8 0x56511fee24ac 0x56511fe29af2 0x56511fe58030 0x56511febb9c8 0x56511fee31d9 0x56511fe29af2 0x56511fe58030 0x56511febb9c8 0x56511fee31d9 0x56511fe29af2 0x56511fe58030 0x56511febb9c8 0x56511fee24ac 0x56511fe29af2 0x56511fe2ad09\n",
            "tcmalloc: large alloc 1433444352 bytes == 0x5651e1f94000 @  0x7f28c7c1b1e7 0x7f28c5fb10ce 0x7f28c6007cf5 0x7f28c6007e08 0x7f28c609a0b9 0x7f28c609ca25 0x56511fe8ab95 0x56511fee285e 0x56511fe2aead 0x56511fe95594 0x56511fe8ab95 0x56511fee285e 0x56511fe29af2 0x56511fe58030 0x56511febb9c8 0x56511fee31d9 0x56511fe29af2 0x56511fe58030 0x56511febb9c8 0x56511fee24ac 0x56511fe29af2 0x56511fe2ad09 0x56511ff058ab 0x56511ff69f53 0x56511ff73fd7 0x56511ff741ac 0x56511ff74709 0x56511ff7485c 0x7f28c6c4cc87 0x56511fef1901\n"
          ]
        }
      ],
      "source": [
        "!plotHeatmap \\\n",
        " -m matrix1.tab.gz \\\n",
        " -out result1.png \\\n",
        " --colorMap YlGnBu \\\n",
        " --regionsLabel 'genes' \\\n",
        " --heatmapHeight 15 \\\n",
        " --plotTitle 'ngs_plot' &"
      ]
    },
    {
      "cell_type": "code",
      "source": [
        "!plotHeatmap \\\n",
        " -m matrix2.tab.gz \\\n",
        " -out result2.png \\\n",
        " --colorMap YlGnBu \\\n",
        " --regionsLabel 'genes' \\\n",
        " --heatmapHeight 15 \\\n",
        " --plotTitle 'ngs_plot' &"
      ],
      "metadata": {
        "colab": {
          "base_uri": "https://localhost:8080/"
        },
        "id": "T6lbfoRe3C5k",
        "outputId": "e3ecba90-5ca8-4d38-938a-40873985826a"
      },
      "execution_count": 32,
      "outputs": [
        {
          "output_type": "stream",
          "name": "stdout",
          "text": [
            "tcmalloc: large alloc 1425596416 bytes == 0x55bb2938e000 @  0x7fa42ec601e7 0x7fa42cff60ce 0x7fa42d04ccf5 0x7fa42d0f586d 0x7fa42d0f617f 0x7fa42d0f62d0 0x55babeb5ad5f 0x7fa42d037944 0x55babebe83eb 0x55babebe9ad8 0x55babec104ac 0x55babeb57af2 0x55babeb86030 0x55babebe99c8 0x55babec1474a 0x55babeb58ead 0x7fa42d037944 0x55babebe83eb 0x55babebe9ad8 0x55babec104ac 0x55babeb57af2 0x55babeb86030 0x55babebe99c8 0x55babec1474a 0x55babeb85e94 0x55babebe99c8 0x55babec10544 0x55babeb57af2 0x55babeb86030 0x55babebe99c8 0x55babec104ac\n",
            "tcmalloc: large alloc 1425596416 bytes == 0x55bb93700000 @  0x7fa42ec601e7 0x7fa42cff60ce 0x7fa42d050726 0x7fa42d043475 0x7fa42d0f36ec 0x55babebe8300 0x55babebe9ad8 0x55babec111d9 0x55babeb85e94 0x55babebe99c8 0x55babec104ac 0x55babeb57af2 0x55babeb593a8 0x7fa42d037944 0x55babebe83eb 0x55babebe9ad8 0x55babec104ac 0x55babeb57af2 0x55babeb86030 0x55babebe99c8 0x55babec111d9 0x55babeb57af2 0x55babeb86030 0x55babebe99c8 0x55babec111d9 0x55babeb57af2 0x55babeb86030 0x55babebe99c8 0x55babec104ac 0x55babeb57af2 0x55babeb58d09\n",
            "tcmalloc: large alloc 1425596416 bytes == 0x55bb7e31c000 @  0x7fa42ec601e7 0x7fa42cff60ce 0x7fa42d04ccf5 0x7fa42d04ce08 0x7fa42d0df0b9 0x7fa42d0e1a25 0x55babebb8b95 0x55babec1085e 0x55babeb58ead 0x55babebc3594 0x55babebb8b95 0x55babec1085e 0x55babeb57af2 0x55babeb86030 0x55babebe99c8 0x55babec111d9 0x55babeb57af2 0x55babeb86030 0x55babebe99c8 0x55babec104ac 0x55babeb57af2 0x55babeb58d09 0x55babec338ab 0x55babec97f53 0x55babeca1fd7 0x55babeca21ac 0x55babeca2709 0x55babeca285c 0x7fa42dc91c87 0x55babec1f901\n"
          ]
        }
      ]
    },
    {
      "cell_type": "markdown",
      "metadata": {
        "id": "Exzmc87-yQWt"
      },
      "source": [
        "Получаем результат в файле \"result.png\""
      ]
    }
  ],
  "metadata": {
    "colab": {
      "collapsed_sections": [],
      "name": "Ганецкая ChIP-seq on histones.ipynb",
      "provenance": []
    },
    "kernelspec": {
      "display_name": "Python 3",
      "name": "python3"
    },
    "language_info": {
      "name": "python"
    }
  },
  "nbformat": 4,
  "nbformat_minor": 0
}